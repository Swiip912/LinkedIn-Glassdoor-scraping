{
  "cells": [
    {
      "cell_type": "code",
      "execution_count": null,
      "id": "c2fbcd1b",
      "metadata": {},
      "outputs": [],
      "source": [
        "# Import des librairies \n",
        "\n",
        "from selenium import webdriver\n",
        "from selenium.webdriver.common.keys import Keys\n",
        "from selenium.webdriver.common.by import By\n",
        "from bs4 import BeautifulSoup\n",
        "from time import sleep\n",
        "import csv"
      ]
    },
    {
      "cell_type": "code",
      "execution_count": null,
      "id": "08d72afc",
      "metadata": {},
      "outputs": [],
      "source": [
        "# Connexion a LinkedIn\n",
        "\n",
        "# Ouverture de Chrome et connexion a LinkedIn\n",
        "driver = webdriver.Chrome()\n",
        "sleep(2)\n",
        "url = 'https://www.linkedin.com/login'\n",
        "driver.get(url)\n",
        "print('Initialisation driver')\n",
        "sleep(2)\n",
        "\n",
        "# Import username et password. Il faut un fichier local avec les infos de connexions\n",
        "credential = open('credentials.txt')\n",
        "line = credential.readlines()\n",
        "username = line[0]\n",
        "password = line[1]\n",
        "print('Succès import credentials')\n",
        "sleep(2)\n",
        "\n",
        "# Task 1.2: Key in login credentials\n",
        "email_field = driver.find_element(By.NAME, \"session_key\")\n",
        "email_field.send_keys(username)\n",
        "print('Succès insertion email')\n",
        "sleep(3)\n",
        "\n",
        "password_field = driver.find_element(By.NAME, \"session_password\")\n",
        "password_field.send_keys(password)\n",
        "print('Succès insertion password')\n",
        "sleep(2)\n",
        "\n",
        "# Soumission formulaire\n",
        "# Plus besoin de cliquer on dirait ? Je garde ca en commentaire si besoin\n",
        "#signin_field = driver.find_element(By.XPATH, '//*[@id=\"organic-div\"]/form/div[3]/button')\n",
        "#signin_field.click()\n",
        "\n",
        "print('Connexion a LinkedIn avec succès')"
      ]
    },
    {
      "cell_type": "code",
      "execution_count": null,
      "id": "9c322fa1",
      "metadata": {},
      "outputs": [],
      "source": [
        "# Recherche d'un profil. Ici Data Engineer\n",
        "\n",
        "# Accès a la barre de recherche\n",
        "search_field = driver.find_element(By.XPATH, '//*[@id=\"global-nav-typeahead\"]/input')\n",
        "\n",
        "# Insertion du profil recherché\n",
        "\n",
        "#search_query = 'Data engineer'\n",
        "search_query = input('Quel profil scraper? ')\n",
        "search_field.send_keys(search_query)\n",
        "\n",
        "# Lancement de la recherche\n",
        "search_field.send_keys(Keys.RETURN)\n",
        "\n",
        "print('Recherche des profils avec succès')"
      ]
    },
    {
      "cell_type": "code",
      "execution_count": null,
      "id": "6eae9ecc",
      "metadata": {},
      "outputs": [],
      "source": [
        "link = driver.find_element(By.LINK_TEXT, 'Voir tous les résultats d’offres d’emploi pour : France')\n",
        "link.click()"
      ]
    },
    {
      "cell_type": "code",
      "execution_count": null,
      "id": "52fdc659",
      "metadata": {},
      "outputs": [],
      "source": [
        "# Task 3: Scrape the URLs of the profiles\n",
        "\n",
        "#Pour des besoin pratique, je donne l'URL qui m'interesse ici (Pour ma recherche personnel, je veux un poste de Data Engineer en full remote):\n",
        "#Il est plus facile de donner l'URL avec les paramètres que de passer par le script pour accéder aux menus déroulant.\n",
        "\n",
        "url = 'https://www.linkedin.com/jobs/search/?currentJobId=3140318840&f_TPR=r604800&f_WT=2&keywords=data%20engineer&sortBy=R'\n",
        "driver.get(url)\n",
        "\n",
        "# Fonction d'extraction des url des différents profils proposer pour accéder ensuite au détail des annonces via ces URL\n",
        "def GetURL():\n",
        "    page_source = BeautifulSoup(driver.page_source)\n",
        "    profiles = page_source.find_all('a', class_ = 'disabled ember-view job-card-container__link job-card-list__title')\n",
        "    all_profile_URL = []\n",
        "    for profile in profiles:\n",
        "        profile_ID = profile.get('href')\n",
        "        profile_URL = \"https://www.linkedin.com\" + profile_ID\n",
        "        if profile_URL not in all_profile_URL:\n",
        "            all_profile_URL.append(profile_URL)\n",
        "    return all_profile_URL\n",
        "\n",
        "# Ouvrir chaque URL et récupérer les information de chaque profil\n",
        "\n",
        "input_page = int(input('Combien de page scraper?: '))\n",
        "URLs_all_page = []\n",
        "for page in range(input_page):\n",
        "    URLs_one_page = GetURL()\n",
        "    sleep(2)\n",
        "    driver.execute_script('window.scrollTo(0, document.body.scrollHeight);') #scroll a la fin de la page\n",
        "    sleep(3)\n",
        "    next_button = driver.find_element(By.CLASS_NAME, \"artdeco-button__text\")\n",
        "    driver.execute_script(\"arguments[0].click();\", next_button)\n",
        "    URLs_all_page = URLs_all_page + URLs_one_page\n",
        "    sleep(2)\n",
        "\n",
        "print('Scraping des url avec succès')"
      ]
    },
    {
      "cell_type": "code",
      "execution_count": null,
      "id": "96e8b6e1",
      "metadata": {},
      "outputs": [],
      "source": [
        "#Ici, on va accéder a chaque URL qu'on a concaténer dans URLs_all_page, et récupérer le nom de l'entreprise, le profil, \n",
        "#la géolocalication et le type de poste pour s'assurer qu'on est bien sur du full remote\n",
        "with open('output.csv', 'w',  newline = '') as file_output:\n",
        "    headers = ['Company Name', 'Job Title', 'Location', 'URL']\n",
        "    writer = csv.DictWriter(file_output, delimiter=',', lineterminator='\\n',fieldnames=headers)\n",
        "    writer.writeheader()\n",
        "    for linkedin_URL in URLs_all_page:\n",
        "        driver.get(linkedin_URL)\n",
        "        print('- Accès au profil via URL: ', linkedin_URL)\n",
        "\n",
        "        page_source = BeautifulSoup(driver.page_source, \"html.parser\")\n",
        "\n",
        "        info_div = page_source.find('div',{'class':'p5'})\n",
        "        span_name = info_div.find('span', {'class':'jobs-unified-top-card__company-name'})\n",
        "        company_name = span_name.find('a').get_text().strip()\n",
        "        print('--- Company name: ', company_name)\n",
        "        location = info_div.find('span', {'class':'jobs-unified-top-card__bullet'}).get_text().strip() #Remove unnecessary characters \n",
        "        print('--- Profile location is: ', location)\n",
        "        workplace_type = info_div.find('span', {'class', 'jobs-unified-top-card__workplace-type'}).get_text().strip()\n",
        "        print('--- Workplace type is :', workplace_type)\n",
        "        title = info_div.find('h1').get_text().strip()\n",
        "        print('--- Profile title is: ', title)\n",
        "        writer.writerow({headers[0]:company_name, headers[1]:location, headers[2]:title, headers[3]:linkedin_URL})\n",
        "        print('\\n')\n",
        "\n",
        "print('Extraction des données OK!')"
      ]
    },
    {
      "cell_type": "code",
      "execution_count": null,
      "id": "68fa13f5",
      "metadata": {},
      "outputs": [],
      "source": []
    },
    {
      "cell_type": "code",
      "execution_count": null,
      "id": "47e6c661",
      "metadata": {},
      "outputs": [],
      "source": []
    },
    {
      "cell_type": "code",
      "execution_count": null,
      "id": "bc57aed5",
      "metadata": {},
      "outputs": [],
      "source": []
    },
    {
      "cell_type": "code",
      "execution_count": null,
      "id": "474fcc3e",
      "metadata": {},
      "outputs": [],
      "source": []
    },
    {
      "cell_type": "code",
      "execution_count": null,
      "id": "e4453c87",
      "metadata": {},
      "outputs": [],
      "source": []
    },
    {
      "cell_type": "code",
      "execution_count": null,
      "id": "c3230e2f",
      "metadata": {},
      "outputs": [],
      "source": []
    },
    {
      "cell_type": "code",
      "execution_count": null,
      "id": "438c6015",
      "metadata": {},
      "outputs": [],
      "source": []
    },
    {
      "cell_type": "code",
      "execution_count": null,
      "id": "cbc30d7a",
      "metadata": {},
      "outputs": [],
      "source": []
    },
    {
      "cell_type": "code",
      "execution_count": null,
      "id": "5cb66c0b",
      "metadata": {},
      "outputs": [],
      "source": []
    },
    {
      "cell_type": "code",
      "execution_count": null,
      "id": "e8a15c46",
      "metadata": {},
      "outputs": [],
      "source": []
    },
    {
      "cell_type": "code",
      "execution_count": null,
      "id": "adc46e0a",
      "metadata": {},
      "outputs": [],
      "source": []
    },
    {
      "cell_type": "code",
      "execution_count": null,
      "id": "1e7024f6",
      "metadata": {},
      "outputs": [],
      "source": []
    },
    {
      "cell_type": "code",
      "execution_count": null,
      "id": "22ef8fac",
      "metadata": {},
      "outputs": [],
      "source": []
    },
    {
      "cell_type": "code",
      "execution_count": null,
      "id": "972b11e0",
      "metadata": {},
      "outputs": [],
      "source": []
    },
    {
      "cell_type": "code",
      "execution_count": null,
      "id": "1508fbf3",
      "metadata": {},
      "outputs": [],
      "source": []
    },
    {
      "cell_type": "code",
      "execution_count": null,
      "id": "b074ab99",
      "metadata": {},
      "outputs": [],
      "source": []
    }
  ],
  "metadata": {
    "kernelspec": {
      "display_name": "Python (Pyodide)",
      "language": "python",
      "name": "python"
    },
    "language_info": {
      "codemirror_mode": {
        "name": "python",
        "version": 3
      },
      "file_extension": ".py",
      "mimetype": "text/x-python",
      "name": "python",
      "nbconvert_exporter": "python",
      "pygments_lexer": "ipython3",
      "version": "3.8"
    },
    "vscode": {
      "interpreter": {
        "hash": "fb833273add3e7c60eb33c0608260b79a61e072ade6f02cc8d07b0a26eef8ab8"
      }
    }
  },
  "nbformat": 4,
  "nbformat_minor": 5
}
