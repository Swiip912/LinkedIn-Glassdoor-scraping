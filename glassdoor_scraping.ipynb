{
 "cells": [
  {
   "cell_type": "code",
   "execution_count": null,
   "id": "c2fbcd1b",
   "metadata": {},
   "outputs": [],
   "source": [
    "# Import des librairies \n",
    "\n",
    "from selenium import webdriver\n",
    "from selenium.webdriver.common.keys import Keys\n",
    "from selenium.webdriver.common.by import By\n",
    "from bs4 import BeautifulSoup\n",
    "from time import sleep\n",
    "import csv"
   ]
  },
  {
   "cell_type": "code",
   "execution_count": null,
   "id": "08d72afc",
   "metadata": {},
   "outputs": [],
   "source": [
    "# Connexion a Glassdoor\n",
    "\n",
    "# Ouverture de chrome et accès a Glassdoor\n",
    "\n",
    "driver = webdriver.Chrome()\n",
    "sleep(2)\n",
    "url = 'https://www.glassdoor.fr/index.htm'\n",
    "driver.get(url)\n",
    "print('Initialisation driver')\n",
    "sleep(2)\n",
    "\n",
    "sign_in = driver.find_element(By.CLASS_NAME, \"LockedHomeHeaderStyles__signInButton\")\n",
    "sign_in.click()\n",
    "\n",
    "# Import username et password. Il faut un fichier local avec les infos de connexions\n",
    "credential = open('credentials_glassdoor.txt')\n",
    "line = credential.readlines()\n",
    "username = line[0]\n",
    "password = line[1]\n",
    "print('Succès import credentials')\n",
    "sleep(2)\n",
    "\n",
    "#Insertion des credentials\n",
    "#Il arrive que cette partie ne fonctionne pas, de manière aléatoire. Il suffit alors de cliquer manuellement sur l'encars login et de relancer le script.\n",
    "#Il doit s'agir d'une mesure anti scraping\n",
    "\n",
    "email_field = driver.find_element(By.NAME, \"username\")\n",
    "email_field.send_keys(username)\n",
    "print('Succès insertion email')\n",
    "sleep(3)\n",
    "\n",
    "submit = driver.find_element(By.NAME, \"submit\")\n",
    "submit.click()\n",
    "sleep(2)\n",
    "\n",
    "password_field = driver.find_element(By.NAME, \"password\")\n",
    "password_field.send_keys(password)\n",
    "print('Succès insertion password')\n",
    "sleep(2)\n",
    "\n",
    "print('Connexion a Glassdoor avec succès')"
   ]
  },
  {
   "cell_type": "code",
   "execution_count": null,
   "id": "7822bbcf",
   "metadata": {},
   "outputs": [],
   "source": [
    "# Scan des 1000 premières boites qui proposent des postes de Data engineer. Pour avoir un echantillon si grand, on accepte des variantes tels que Data analyste\n",
    "# Pour une raison que j'ignore, le script s'arrête de manière aléatoire car glassdoor refuse parfois de charger la page suivante d'entreprise. Il doit s'agir d'une mesure anti scraping \n",
    "\n",
    "url = 'https://www.glassdoor.fr/Salaires/france-date-engineer-salaire-SRCH_IL.0,6_IN86_KO7,20.htm?clickSource=searchBtn'\n",
    "driver.get(url)\n",
    "input_page = int(input('Combien de pages voulez vous scraper?: '))\n",
    "data_divs = []\n",
    "\n",
    "with open('output_glassdoor.csv', 'a',  newline = '') as file_output:\n",
    "    headers = ['Company Name', 'Job Title', 'Salary', 'Min salary', 'Max salary', 'Fourchette']\n",
    "    writer = csv.DictWriter(file_output, delimiter=',', lineterminator='\\n',fieldnames=headers)\n",
    "    writer.writeheader()\n",
    "\n",
    "    for page in range(input_page):\n",
    "        page_source = BeautifulSoup(driver.page_source)\n",
    "        data_current_page = page_source.find_all('div', class_ = 'py css-17435dd')\n",
    "        for div in data_current_page:\n",
    "            company = div.find('a',{'class':'css-f3vw95 e1aj7ssy3'}).getText().strip()\n",
    "            job = div.find('span',{'class':'m-0 css-18stkbk'}).getText().strip()\n",
    "            salary = div.find('div',{'class':'d-flex align-items-baseline'}).find('h3').getText().encode(\"ascii\",'ignore').decode(\"utf-8\")\n",
    "            min_salary = div.find_all('p',{'class':'m-0 css-1vkj9it'})[0].getText().encode(\"ascii\",'ignore').decode(\"utf-8\")\n",
    "            max_salary = div.find_all('p',{'class':'m-0 css-1vkj9it'})[1].getText().encode(\"ascii\",'ignore').decode(\"utf-8\")\n",
    "            fourchette = div.find_all('p',{'class':'m-0 css-1vkj9it'})[2].getText().encode(\"ascii\",'ignore').decode(\"utf-8\")\n",
    "            data_divs.append(company + ',' + job + ',' + salary + ',' + min_salary + ',' + max_salary + ',' + fourchette)\n",
    "            writer.writerow({headers[0]:company, headers[1]:job, headers[2]:salary, headers[3]:min_salary, headers[4]:max_salary, headers[5]:fourchette})\n",
    "        \n",
    "        sleep(2)\n",
    "        driver.execute_script('window.scrollTo(0, document.body.scrollHeight);') #Scroll a la fin de la page\n",
    "        sleep(3)\n",
    "        next_button = driver.find_element(By.CLASS_NAME, \"nextButton\")\n",
    "        driver.execute_script(\"arguments[0].click();\", next_button)\n",
    "        sleep(2)\n",
    "\n",
    "print('Scraping des divs avec succès')"
   ]
  },
  {
   "cell_type": "code",
   "execution_count": null,
   "id": "2c0cbf8f",
   "metadata": {},
   "outputs": [],
   "source": []
  },
  {
   "cell_type": "code",
   "execution_count": null,
   "id": "7a09f4f5",
   "metadata": {},
   "outputs": [],
   "source": []
  },
  {
   "cell_type": "code",
   "execution_count": null,
   "id": "51887c86",
   "metadata": {},
   "outputs": [],
   "source": []
  },
  {
   "cell_type": "code",
   "execution_count": null,
   "id": "8712ed9f",
   "metadata": {},
   "outputs": [],
   "source": []
  },
  {
   "cell_type": "code",
   "execution_count": null,
   "id": "57698dd2",
   "metadata": {},
   "outputs": [],
   "source": []
  },
  {
   "cell_type": "code",
   "execution_count": null,
   "id": "0a5c3687",
   "metadata": {},
   "outputs": [],
   "source": []
  },
  {
   "cell_type": "code",
   "execution_count": null,
   "id": "6bbdba2a",
   "metadata": {},
   "outputs": [],
   "source": []
  },
  {
   "cell_type": "code",
   "execution_count": null,
   "id": "d93d2adf",
   "metadata": {},
   "outputs": [],
   "source": []
  },
  {
   "cell_type": "code",
   "execution_count": null,
   "id": "64fe617f",
   "metadata": {},
   "outputs": [],
   "source": []
  },
  {
   "cell_type": "code",
   "execution_count": null,
   "id": "b0d0c39a",
   "metadata": {},
   "outputs": [],
   "source": []
  },
  {
   "cell_type": "code",
   "execution_count": null,
   "id": "a7b609c1",
   "metadata": {},
   "outputs": [],
   "source": []
  }
 ],
 "metadata": {
  "kernelspec": {
   "display_name": "Python 3.9.12 ('base')",
   "language": "python",
   "name": "python3"
  },
  "language_info": {
   "codemirror_mode": {
    "name": "ipython",
    "version": 3
   },
   "file_extension": ".py",
   "mimetype": "text/x-python",
   "name": "python",
   "nbconvert_exporter": "python",
   "pygments_lexer": "ipython3",
   "version": "3.9.12"
  },
  "vscode": {
   "interpreter": {
    "hash": "fb833273add3e7c60eb33c0608260b79a61e072ade6f02cc8d07b0a26eef8ab8"
   }
  }
 },
 "nbformat": 4,
 "nbformat_minor": 5
}
